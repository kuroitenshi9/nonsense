{
  "cells": [
    {
      "cell_type": "markdown",
      "metadata": {
        "id": "view-in-github",
        "colab_type": "text"
      },
      "source": [
        "<a href=\"https://colab.research.google.com/github/kuroitenshi9/nonsense/blob/master/RiPO_L2_58443.ipynb\" target=\"_parent\"><img src=\"https://colab.research.google.com/assets/colab-badge.svg\" alt=\"Open In Colab\"/></a>"
      ]
    },
    {
      "cell_type": "markdown",
      "metadata": {
        "id": "c4BJVN2Drsni"
      },
      "source": [
        "**RiPO_Lab_2**\n",
        "\n",
        "Praktyczne aspekty przetwarzania obrazów za pomocą biblioteki Pillow i Keras"
      ]
    },
    {
      "cell_type": "markdown",
      "metadata": {
        "id": "kLUV07K4sO7K"
      },
      "source": [
        "$\\color{red}{Uwaga:}$\n",
        "\n",
        "1- proszę pamiętać o zmianie słowa ***Album*** w nazwie pliku i uzupełnieniu swoich danych powyżej tego pola;\n",
        "\n",
        "2- kluczowe polecenia, stanowiące krok jakiegoś procesu, proszę opatrzyć komentarzem;\n",
        "\n",
        "3- założenia do zadań (jeśli są wskazane) piszemy w polu tekstowym przed rozwiązaniem zadania, a wnioski, pod zadaniem."
      ]
    },
    {
      "cell_type": "code",
      "execution_count": null,
      "metadata": {
        "colab": {
          "base_uri": "https://localhost:8080/"
        },
        "id": "1gCdHKmasnQq",
        "outputId": "97adf135-3e53-458e-edf5-9897d36ddc32"
      },
      "outputs": [
        {
          "name": "stdout",
          "output_type": "stream",
          "text": [
            "Podaj Imię i Nazwisko: Malgorzata Lyczywek\n",
            "Podaj numer albumu: 58443\n"
          ]
        }
      ],
      "source": [
        "# Podpisywanie pracy\n",
        "NN = input(\"Podaj Imię i Nazwisko: \")\n",
        "ALBUM = input(\"Podaj numer albumu: \")"
      ]
    },
    {
      "cell_type": "code",
      "execution_count": null,
      "metadata": {
        "id": "ZbovStRAujA3"
      },
      "outputs": [],
      "source": [
        "# Ocena pracy. Proszę nie zmieniać komórek z kodem pomocniczym do oceny.\n",
        "punkty = []\n",
        "max = int(25)"
      ]
    },
    {
      "cell_type": "markdown",
      "metadata": {
        "id": "Y7j_sCjUuw_t"
      },
      "source": [
        "### **Zad 2.1.** Zapoznaj się z dokumentacją klasy *ImageDataGenerator* biblioteki **Keras** i przetestuj dostępne w niej narzędzia augmentacji danych obrazowych (wykorzystaj przykładowe dane ze zbioru *Stanford Dogs Dataset*)."
      ]
    },
    {
      "cell_type": "markdown",
      "metadata": {
        "id": "y6EELNsLBRgm"
      },
      "source": [
        "Adres dokumentacji: https://www.tensorflow.org/api_docs/python/tf/keras/preprocessing/image/ImageDataGenerator"
      ]
    },
    {
      "cell_type": "code",
      "execution_count": null,
      "metadata": {
        "colab": {
          "base_uri": "https://localhost:8080/",
          "height": 316
        },
        "id": "gWguq0nYdBGP",
        "outputId": "b1772089-57ff-44e6-a17c-cb3d8301cf84"
      },
      "outputs": [
        {
          "output_type": "error",
          "ename": "MessageError",
          "evalue": "Error: credential propagation was unsuccessful",
          "traceback": [
            "\u001b[0;31m---------------------------------------------------------------------------\u001b[0m",
            "\u001b[0;31mMessageError\u001b[0m                              Traceback (most recent call last)",
            "\u001b[0;32m<ipython-input-1-bcf1cb7d4f09>\u001b[0m in \u001b[0;36m<cell line: 2>\u001b[0;34m()\u001b[0m\n\u001b[1;32m      1\u001b[0m \u001b[0;32mfrom\u001b[0m \u001b[0mgoogle\u001b[0m\u001b[0;34m.\u001b[0m\u001b[0mcolab\u001b[0m \u001b[0;32mimport\u001b[0m \u001b[0mdrive\u001b[0m\u001b[0;34m\u001b[0m\u001b[0;34m\u001b[0m\u001b[0m\n\u001b[0;32m----> 2\u001b[0;31m \u001b[0mdrive\u001b[0m\u001b[0;34m.\u001b[0m\u001b[0mmount\u001b[0m\u001b[0;34m(\u001b[0m\u001b[0;34m'/content/drive'\u001b[0m\u001b[0;34m,\u001b[0m \u001b[0mforce_remount\u001b[0m\u001b[0;34m=\u001b[0m\u001b[0;32mTrue\u001b[0m\u001b[0;34m)\u001b[0m\u001b[0;34m\u001b[0m\u001b[0;34m\u001b[0m\u001b[0m\n\u001b[0m\u001b[1;32m      3\u001b[0m \u001b[0mbase_dir\u001b[0m \u001b[0;34m=\u001b[0m \u001b[0;34m'/content/drive/MyDrive/Studia/Colab Notebooks/data/Stanford_Dogs_Dataset/Pekinese'\u001b[0m\u001b[0;34m\u001b[0m\u001b[0;34m\u001b[0m\u001b[0m\n",
            "\u001b[0;32m/usr/local/lib/python3.10/dist-packages/google/colab/drive.py\u001b[0m in \u001b[0;36mmount\u001b[0;34m(mountpoint, force_remount, timeout_ms, readonly)\u001b[0m\n\u001b[1;32m     98\u001b[0m \u001b[0;32mdef\u001b[0m \u001b[0mmount\u001b[0m\u001b[0;34m(\u001b[0m\u001b[0mmountpoint\u001b[0m\u001b[0;34m,\u001b[0m \u001b[0mforce_remount\u001b[0m\u001b[0;34m=\u001b[0m\u001b[0;32mFalse\u001b[0m\u001b[0;34m,\u001b[0m \u001b[0mtimeout_ms\u001b[0m\u001b[0;34m=\u001b[0m\u001b[0;36m120000\u001b[0m\u001b[0;34m,\u001b[0m \u001b[0mreadonly\u001b[0m\u001b[0;34m=\u001b[0m\u001b[0;32mFalse\u001b[0m\u001b[0;34m)\u001b[0m\u001b[0;34m:\u001b[0m\u001b[0;34m\u001b[0m\u001b[0;34m\u001b[0m\u001b[0m\n\u001b[1;32m     99\u001b[0m   \u001b[0;34m\"\"\"Mount your Google Drive at the specified mountpoint path.\"\"\"\u001b[0m\u001b[0;34m\u001b[0m\u001b[0;34m\u001b[0m\u001b[0m\n\u001b[0;32m--> 100\u001b[0;31m   return _mount(\n\u001b[0m\u001b[1;32m    101\u001b[0m       \u001b[0mmountpoint\u001b[0m\u001b[0;34m,\u001b[0m\u001b[0;34m\u001b[0m\u001b[0;34m\u001b[0m\u001b[0m\n\u001b[1;32m    102\u001b[0m       \u001b[0mforce_remount\u001b[0m\u001b[0;34m=\u001b[0m\u001b[0mforce_remount\u001b[0m\u001b[0;34m,\u001b[0m\u001b[0;34m\u001b[0m\u001b[0;34m\u001b[0m\u001b[0m\n",
            "\u001b[0;32m/usr/local/lib/python3.10/dist-packages/google/colab/drive.py\u001b[0m in \u001b[0;36m_mount\u001b[0;34m(mountpoint, force_remount, timeout_ms, ephemeral, readonly)\u001b[0m\n\u001b[1;32m    135\u001b[0m   )\n\u001b[1;32m    136\u001b[0m   \u001b[0;32mif\u001b[0m \u001b[0mephemeral\u001b[0m\u001b[0;34m:\u001b[0m\u001b[0;34m\u001b[0m\u001b[0;34m\u001b[0m\u001b[0m\n\u001b[0;32m--> 137\u001b[0;31m     _message.blocking_request(\n\u001b[0m\u001b[1;32m    138\u001b[0m         \u001b[0;34m'request_auth'\u001b[0m\u001b[0;34m,\u001b[0m\u001b[0;34m\u001b[0m\u001b[0;34m\u001b[0m\u001b[0m\n\u001b[1;32m    139\u001b[0m         \u001b[0mrequest\u001b[0m\u001b[0;34m=\u001b[0m\u001b[0;34m{\u001b[0m\u001b[0;34m'authType'\u001b[0m\u001b[0;34m:\u001b[0m \u001b[0;34m'dfs_ephemeral'\u001b[0m\u001b[0;34m}\u001b[0m\u001b[0;34m,\u001b[0m\u001b[0;34m\u001b[0m\u001b[0;34m\u001b[0m\u001b[0m\n",
            "\u001b[0;32m/usr/local/lib/python3.10/dist-packages/google/colab/_message.py\u001b[0m in \u001b[0;36mblocking_request\u001b[0;34m(request_type, request, timeout_sec, parent)\u001b[0m\n\u001b[1;32m    174\u001b[0m       \u001b[0mrequest_type\u001b[0m\u001b[0;34m,\u001b[0m \u001b[0mrequest\u001b[0m\u001b[0;34m,\u001b[0m \u001b[0mparent\u001b[0m\u001b[0;34m=\u001b[0m\u001b[0mparent\u001b[0m\u001b[0;34m,\u001b[0m \u001b[0mexpect_reply\u001b[0m\u001b[0;34m=\u001b[0m\u001b[0;32mTrue\u001b[0m\u001b[0;34m\u001b[0m\u001b[0;34m\u001b[0m\u001b[0m\n\u001b[1;32m    175\u001b[0m   )\n\u001b[0;32m--> 176\u001b[0;31m   \u001b[0;32mreturn\u001b[0m \u001b[0mread_reply_from_input\u001b[0m\u001b[0;34m(\u001b[0m\u001b[0mrequest_id\u001b[0m\u001b[0;34m,\u001b[0m \u001b[0mtimeout_sec\u001b[0m\u001b[0;34m)\u001b[0m\u001b[0;34m\u001b[0m\u001b[0;34m\u001b[0m\u001b[0m\n\u001b[0m",
            "\u001b[0;32m/usr/local/lib/python3.10/dist-packages/google/colab/_message.py\u001b[0m in \u001b[0;36mread_reply_from_input\u001b[0;34m(message_id, timeout_sec)\u001b[0m\n\u001b[1;32m    101\u001b[0m     ):\n\u001b[1;32m    102\u001b[0m       \u001b[0;32mif\u001b[0m \u001b[0;34m'error'\u001b[0m \u001b[0;32min\u001b[0m \u001b[0mreply\u001b[0m\u001b[0;34m:\u001b[0m\u001b[0;34m\u001b[0m\u001b[0;34m\u001b[0m\u001b[0m\n\u001b[0;32m--> 103\u001b[0;31m         \u001b[0;32mraise\u001b[0m \u001b[0mMessageError\u001b[0m\u001b[0;34m(\u001b[0m\u001b[0mreply\u001b[0m\u001b[0;34m[\u001b[0m\u001b[0;34m'error'\u001b[0m\u001b[0;34m]\u001b[0m\u001b[0;34m)\u001b[0m\u001b[0;34m\u001b[0m\u001b[0;34m\u001b[0m\u001b[0m\n\u001b[0m\u001b[1;32m    104\u001b[0m       \u001b[0;32mreturn\u001b[0m \u001b[0mreply\u001b[0m\u001b[0;34m.\u001b[0m\u001b[0mget\u001b[0m\u001b[0;34m(\u001b[0m\u001b[0;34m'data'\u001b[0m\u001b[0;34m,\u001b[0m \u001b[0;32mNone\u001b[0m\u001b[0;34m)\u001b[0m\u001b[0;34m\u001b[0m\u001b[0;34m\u001b[0m\u001b[0m\n\u001b[1;32m    105\u001b[0m \u001b[0;34m\u001b[0m\u001b[0m\n",
            "\u001b[0;31mMessageError\u001b[0m: Error: credential propagation was unsuccessful"
          ]
        }
      ],
      "source": [
        "from google.colab import drive\n",
        "drive.mount('/content/drive', force_remount=True)\n",
        "base_dir = '/content/drive/MyDrive/Studia/Colab Notebooks/data/Stanford_Dogs_Dataset/Pekinese'\n"
      ]
    },
    {
      "cell_type": "code",
      "execution_count": null,
      "metadata": {
        "colab": {
          "background_save": true
        },
        "id": "Dd5K_7Fdam2Z"
      },
      "outputs": [],
      "source": [
        "import os\n",
        "import matplotlib.pyplot as plt\n",
        "from PIL import Image\n",
        "import numpy as np\n",
        "from tensorflow.keras.preprocessing.image import ImageDataGenerator\n",
        "\n",
        "class DataAugmentation:\n",
        "    def __init__(self, base_dir):\n",
        "        self.base_dir = base_dir\n",
        "        self.sample_image = self.load_smpl_img()\n",
        "\n",
        "    def load_smpl_img(self):\n",
        "        sample_image_path = os.path.join(self.base_dir, os.listdir(self.base_dir)[0])\n",
        "        return Image.open(sample_image_path)\n",
        "\n",
        "    def show_orig_aug(self, aug_type, datagen):\n",
        "        img = np.array(self.sample_image)\n",
        "        img = img.reshape((1,) + img.shape)\n",
        "\n",
        "        batch = next(datagen.flow(img, batch_size=1))\n",
        "\n",
        "        fig, axs = plt.subplots(1, 2, figsize=(10, 5))\n",
        "        axs[0].imshow(self.sample_image)\n",
        "        axs[0].set_title(\"Oryginalny obrazek\")\n",
        "        axs[0].axis('off')\n",
        "\n",
        "        axs[1].imshow(batch[0].astype('uint8'))\n",
        "        axs[1].set_title(aug_type)\n",
        "        axs[1].axis('off')\n",
        "\n",
        "        plt.show()\n",
        "\n",
        "    def display_aug(self):\n",
        "        augmentations = {\n",
        "            \"1. Rotacja (90°)\": ImageDataGenerator(rotation_range=90),\n",
        "            \"2. Zoom (0.5x-1.5x)\": ImageDataGenerator(zoom_range=[0.5, 1.5]),\n",
        "            \"3. Odwrócenie w poziomie\": ImageDataGenerator(horizontal_flip=True),\n",
        "            \"4. Odwrócenie w pionie\": ImageDataGenerator(vertical_flip=True),\n",
        "            \"5. Jasność (0.5-1.5)\": ImageDataGenerator(brightness_range=[0.5, 1.5]),\n",
        "            \"6. Przyciemnienie\": ImageDataGenerator(brightness_range=[0.1, 0.3]),\n",
        "            \"7. Przesunięcie szerokości (20%)\": ImageDataGenerator(width_shift_range=0.2),\n",
        "            \"8. Przesunięcie wysokości (20%)\": ImageDataGenerator(height_shift_range=0.2),\n",
        "            \"9. Shear (20°)\": ImageDataGenerator(shear_range=20),\n",
        "            \"10. Wypełnienie najbliższym pikselem\": ImageDataGenerator(fill_mode='nearest')\n",
        "        }\n",
        "\n",
        "        for aug_name, datagen in augmentations.items():\n",
        "            self.show_orig_aug(aug_name, datagen)\n",
        "\n",
        "\n",
        "augmentor = DataAugmentation(base_dir)\n",
        "augmentor.display_aug()\n"
      ]
    },
    {
      "cell_type": "code",
      "execution_count": null,
      "metadata": {
        "id": "dQqElf0oz7z9"
      },
      "outputs": [],
      "source": [
        "# Maksymalna wartość punktów za Zad 2.1: 10\n",
        "punkty.append(10)"
      ]
    },
    {
      "cell_type": "markdown",
      "metadata": {
        "id": "OzM4dhTMw0Hr"
      },
      "source": [
        "### **Zad 2.2.** Wykorzystując narzędzia z klasy *ImageDataGenerator* biblioteki **Keras** wykonaj augmentację wybranych przez siebie danych obrazowych."
      ]
    },
    {
      "cell_type": "markdown",
      "metadata": {
        "id": "xqfiDq_pknVG"
      },
      "source": [
        "Założenia:\n",
        "\n",
        "1- użyj trzech niezależnych generatorów po 10 razy dla każdego obrazu\n",
        "\n",
        "2- obrazy z każdego z nich zapisz w oddzielnych katalogach\n",
        "\n",
        "3- wybranych 10 zaugmentowanych obrazów z każdego katalogu przedstaw w ramce 5:2\n",
        "\n",
        "4- we wnioskach opisz zalety i wady generatorów i wskaż, który i z jakiego powodu jest najlepszy"
      ]
    },
    {
      "cell_type": "code",
      "execution_count": null,
      "metadata": {
        "id": "u4RvV2qtGr1U"
      },
      "outputs": [],
      "source": [
        "# Maksymalna wartość punktów za Zad 2.2: 15\n",
        "punkty.append(15)"
      ]
    },
    {
      "cell_type": "code",
      "execution_count": null,
      "metadata": {
        "colab": {
          "base_uri": "https://localhost:8080/"
        },
        "id": "5Ex86oJj0UHA",
        "outputId": "46a86cb1-6bc2-43b7-8aa1-3448ccea81db"
      },
      "outputs": [
        {
          "name": "stdout",
          "output_type": "stream",
          "text": [
            "Punktacja za kolejne zadania:  [10, 15]\n",
            "Suma punktów:  25\n",
            "Udział procentowy:  100.0 %\n",
            "Ocena:  5\n"
          ]
        }
      ],
      "source": [
        "razem = sum(punkty)\n",
        "razem_pr = razem/max\n",
        "if razem_pr >= 0.90:\n",
        "  ocena = 5\n",
        "elif razem_pr >= 0.85:\n",
        "  ocena = 4.5\n",
        "elif razem_pr >= 0.70:\n",
        "  ocena = 4\n",
        "elif razem_pr >= 0.65:\n",
        "  ocena = 3.5\n",
        "elif razem_pr >= 0.50:\n",
        "  ocena = 3\n",
        "else:\n",
        "  ocena = 2\n",
        "\n",
        "print(\"Punktacja za kolejne zadania: \", punkty)\n",
        "print(\"Suma punktów: \", razem)\n",
        "print(\"Udział procentowy: \", razem_pr*100, \"%\")\n",
        "print(\"Ocena: \", ocena)"
      ]
    }
  ],
  "metadata": {
    "colab": {
      "provenance": [],
      "include_colab_link": true
    },
    "kernelspec": {
      "display_name": "Python 3",
      "name": "python3"
    },
    "language_info": {
      "name": "python"
    }
  },
  "nbformat": 4,
  "nbformat_minor": 0
}