{
  "nbformat": 4,
  "nbformat_minor": 0,
  "metadata": {
    "colab": {
      "provenance": [],
      "include_colab_link": true
    },
    "kernelspec": {
      "name": "python3",
      "display_name": "Python 3"
    },
    "language_info": {
      "name": "python"
    }
  },
  "cells": [
    {
      "cell_type": "markdown",
      "metadata": {
        "id": "view-in-github",
        "colab_type": "text"
      },
      "source": [
        "<a href=\"https://colab.research.google.com/github/kuroitenshi9/nonsense/blob/master/RiPO_L2_58442.ipynb\" target=\"_parent\"><img src=\"https://colab.research.google.com/assets/colab-badge.svg\" alt=\"Open In Colab\"/></a>"
      ]
    },
    {
      "cell_type": "markdown",
      "source": [
        "**RiPO_Lab_2**\n",
        "\n",
        "Praktyczne aspekty przetwarzania obrazów za pomocą biblioteki Pillow i Keras"
      ],
      "metadata": {
        "id": "c4BJVN2Drsni"
      }
    },
    {
      "cell_type": "markdown",
      "source": [
        "$\\color{red}{Uwaga:}$\n",
        "\n",
        "1- proszę pamiętać o zmianie słowa ***Album*** w nazwie pliku i uzupełnieniu swoich danych powyżej tego pola;\n",
        "\n",
        "2- kluczowe polecenia, stanowiące krok jakiegoś procesu, proszę opatrzyć komentarzem;\n",
        "\n",
        "3- założenia do zadań (jeśli są wskazane) piszemy w polu tekstowym przed rozwiązaniem zadania, a wnioski, pod zadaniem."
      ],
      "metadata": {
        "id": "kLUV07K4sO7K"
      }
    },
    {
      "cell_type": "code",
      "source": [
        "# Podpisywanie pracy\n",
        "NN = input(\"Podaj Imię i Nazwisko: \")\n",
        "ALBUM = input(\"Podaj numer albumu: \")"
      ],
      "metadata": {
        "colab": {
          "base_uri": "https://localhost:8080/"
        },
        "id": "1gCdHKmasnQq",
        "outputId": "bccb7998-b09c-477c-b886-13ab3dfbfe76"
      },
      "execution_count": null,
      "outputs": [
        {
          "name": "stdout",
          "output_type": "stream",
          "text": [
            "Podaj Imię i Nazwisko: Ewa Bielawska\n",
            "Podaj numer albumu: 58442\n"
          ]
        }
      ]
    },
    {
      "cell_type": "code",
      "source": [
        "# Ocena pracy. Proszę nie zmieniać komórek z kodem pomocniczym do oceny.\n",
        "punkty = []\n",
        "max = int(25)"
      ],
      "metadata": {
        "id": "ZbovStRAujA3"
      },
      "execution_count": null,
      "outputs": []
    },
    {
      "cell_type": "markdown",
      "source": [
        "### **Zad 2.1.** Zapoznaj się z dokumentacją klasy *ImageDataGenerator* biblioteki **Keras** i przetestuj dostępne w niej narzędzia augmentacji danych obrazowych (wykorzystaj przykładowe dane ze zbioru *Stanford Dogs Dataset*)."
      ],
      "metadata": {
        "id": "Y7j_sCjUuw_t"
      }
    },
    {
      "cell_type": "markdown",
      "source": [
        "Adres dokumentacji: https://www.tensorflow.org/api_docs/python/tf/keras/preprocessing/image/ImageDataGenerator"
      ],
      "metadata": {
        "id": "y6EELNsLBRgm"
      }
    },
    {
      "cell_type": "code",
      "source": [
        "from google.colab import drive\n",
        "drive.mount('/content/drive', force_remount=True)\n"
      ],
      "metadata": {
        "colab": {
          "base_uri": "https://localhost:8080/"
        },
        "id": "SI__h0ZY5BXo",
        "outputId": "e824417c-0846-4541-ad9c-b45dc69c3042"
      },
      "execution_count": null,
      "outputs": [
        {
          "output_type": "stream",
          "name": "stdout",
          "text": [
            "Mounted at /content/drive\n"
          ]
        }
      ]
    },
    {
      "cell_type": "code",
      "source": [
        "from tensorflow.keras.preprocessing.image import ImageDataGenerator\n",
        "import os\n",
        "\n",
        "input_dir = '/content/drive/MyDrive/Colab Notebooks/data/Stanford_Dogs_Dataset'\n",
        "output_dir = '/content/drive/MyDrive/Colab Notebooks/data/Stanford_Dogs_Keras'\n",
        "\n",
        "os.makedirs(output_dir, exist_ok=True)"
      ],
      "metadata": {
        "id": "XYjbBfc95L4C"
      },
      "execution_count": null,
      "outputs": []
    },
    {
      "cell_type": "code",
      "source": [
        "import glob\n",
        "folder_path = '/content/drive/MyDrive/Colab Notebooks/data/Stanford_Dogs_Keras/*'\n",
        "\n",
        "image_files = glob.glob(folder_path)\n",
        "image_count = len(image_files)\n",
        "\n",
        "print('Liczba obrazów w folderze:', image_count)"
      ],
      "metadata": {
        "colab": {
          "base_uri": "https://localhost:8080/"
        },
        "id": "sgllMlBb5TuI",
        "outputId": "b8e21900-7322-4ae7-85d6-d48f716d7534"
      },
      "execution_count": null,
      "outputs": [
        {
          "output_type": "stream",
          "name": "stdout",
          "text": [
            "Liczba obrazów w folderze: 0\n"
          ]
        }
      ]
    },
    {
      "cell_type": "code",
      "source": [
        "import glob\n",
        "import os\n",
        "\n",
        "image_pattern = os.path.join(output_dir, '*.jpg')\n",
        "images = glob.glob(image_pattern)"
      ],
      "metadata": {
        "id": "LwuDuNxc5Wok"
      },
      "execution_count": null,
      "outputs": []
    },
    {
      "cell_type": "code",
      "source": [
        "for image in images:\n",
        "  try:\n",
        "    os.remove(image)\n",
        "    print('Usunięto: ', image)\n",
        "  except Exception as e:\n",
        "    print('Nie udało się usunąć pliku', image, \", ponieważ\", e)"
      ],
      "metadata": {
        "id": "rafyts6L5ZDU"
      },
      "execution_count": null,
      "outputs": []
    },
    {
      "cell_type": "code",
      "source": [
        "gen_rotation = ImageDataGenerator(rescale=1./255, rotation_range=90)\n",
        "\n",
        "gen_r1 = gen_rotation.flow_from_directory(\n",
        "    directory=input_dir,\n",
        "    target_size=(600, 800),\n",
        "    class_mode='categorical',\n",
        "    save_to_dir=output_dir,\n",
        "    save_format='jpg'\n",
        ")\n",
        "\n",
        "data_r1=gen_r1.__next__()"
      ],
      "metadata": {
        "colab": {
          "base_uri": "https://localhost:8080/"
        },
        "id": "t2MoZqeR5blk",
        "outputId": "11c66107-5249-4e6d-80c0-d3d5e08dbb1f"
      },
      "execution_count": null,
      "outputs": [
        {
          "output_type": "stream",
          "name": "stdout",
          "text": [
            "Found 10 images belonging to 2 classes.\n"
          ]
        }
      ]
    },
    {
      "cell_type": "code",
      "source": [
        "gen_ws = ImageDataGenerator(rescale=1./255, height_shift_range=0.5)\n",
        "\n",
        "gen_ws1=gen_ws.flow_from_directory(\n",
        "    directory=input_dir,\n",
        "    target_size=(600, 800),\n",
        "    class_mode='categorical',\n",
        "    save_to_dir=output_dir,\n",
        "    save_format='jpg'\n",
        ")\n",
        "\n",
        "data_ws1=gen_ws1.__next__()"
      ],
      "metadata": {
        "colab": {
          "base_uri": "https://localhost:8080/"
        },
        "id": "Akxres1R5eGI",
        "outputId": "560d8413-e453-43a4-c0c5-c98ace647e55"
      },
      "execution_count": null,
      "outputs": [
        {
          "output_type": "stream",
          "name": "stdout",
          "text": [
            "Found 10 images belonging to 2 classes.\n"
          ]
        }
      ]
    },
    {
      "cell_type": "code",
      "source": [
        "images, labels = data_r1\n",
        "print('For data set data r1 - Images shape:', images.shape, 'labels shape:', labels.shape)\n",
        "print(labels)\n",
        "\n",
        "images, labels = data_ws1\n",
        "print('\\nFor data set data ws1 -Images shape:', images.shape, 'labels shape:', labels.shape)\n",
        "print(labels)"
      ],
      "metadata": {
        "id": "e7k3HWfC5hTQ",
        "outputId": "e9da1000-7c34-42bd-f27d-b1b558624a2c",
        "colab": {
          "base_uri": "https://localhost:8080/"
        }
      },
      "execution_count": null,
      "outputs": [
        {
          "output_type": "stream",
          "name": "stdout",
          "text": [
            "For data set data r1 - Images shape: (10, 600, 800, 3) labels shape: (10, 2)\n",
            "[[1. 0.]\n",
            " [0. 1.]\n",
            " [1. 0.]\n",
            " [0. 1.]\n",
            " [1. 0.]\n",
            " [0. 1.]\n",
            " [0. 1.]\n",
            " [0. 1.]\n",
            " [1. 0.]\n",
            " [1. 0.]]\n",
            "\n",
            "For data set data ws1 -Images shape: (10, 600, 800, 3) labels shape: (10, 2)\n",
            "[[0. 1.]\n",
            " [0. 1.]\n",
            " [1. 0.]\n",
            " [1. 0.]\n",
            " [1. 0.]\n",
            " [1. 0.]\n",
            " [0. 1.]\n",
            " [0. 1.]\n",
            " [1. 0.]\n",
            " [0. 1.]]\n"
          ]
        }
      ]
    },
    {
      "cell_type": "code",
      "source": [
        "# Maksymalna wartość punktów za Zad 2.1: 10\n",
        "punkty.append(10)"
      ],
      "metadata": {
        "id": "dQqElf0oz7z9"
      },
      "execution_count": null,
      "outputs": []
    },
    {
      "cell_type": "markdown",
      "source": [
        "### **Zad 2.2.** Wykorzystując narzędzia z klasy *ImageDataGenerator* biblioteki **Keras** wykonaj augmentację wybranych przez siebie danych obrazowych."
      ],
      "metadata": {
        "id": "OzM4dhTMw0Hr"
      }
    },
    {
      "cell_type": "markdown",
      "source": [
        "Założenia:\n",
        "\n",
        "1- użyj trzech niezależnych generatorów po 10 razy dla każdego obrazu\n",
        "\n",
        "2- obrazy z każdego z nich zapisz w oddzielnych katalogach\n",
        "\n",
        "3- wybranych 10 zaugmentowanych obrazów z każdego katalogu przedstaw w ramce 5:2\n",
        "\n",
        "4- we wnioskach opisz zalety i wady generatorów i wskaż, który i z jakiego powodu jest najlepszy"
      ],
      "metadata": {
        "id": "xqfiDq_pknVG"
      }
    },
    {
      "cell_type": "code",
      "source": [
        "import os\n",
        "\n",
        "output_dir = '/content/drive/MyDrive/Colab Notebooks/data/Stanford_Dogs_Keras2'\n",
        "os.makedirs(output_dir, exist_ok=True)\n"
      ],
      "metadata": {
        "id": "01UOwP0t5kej"
      },
      "execution_count": null,
      "outputs": []
    },
    {
      "cell_type": "code",
      "source": [
        "gen_z = ImageDataGenerator(rescale = 1./255, rotation_range=30, width_shift_range=40, horizontal_flip=True, shear_range=90)\n",
        "gen_z1=gen_z.flow_from_drectory(\n",
        "    directory=input_dir,\n",
        "    traget_size=(600,800),\n",
        "    class_mode='categorical',\n",
        "\n",
        ")\n"
      ],
      "metadata": {
        "id": "CPOEpPIY5my4"
      },
      "execution_count": null,
      "outputs": []
    },
    {
      "cell_type": "code",
      "source": [
        "# Maksymalna wartość punktów za Zad 2.2: 15\n",
        "punkty.append(15)"
      ],
      "metadata": {
        "id": "u4RvV2qtGr1U"
      },
      "execution_count": null,
      "outputs": []
    },
    {
      "cell_type": "code",
      "source": [
        "razem = sum(punkty)\n",
        "razem_pr = razem/max\n",
        "if razem_pr >= 0.90:\n",
        "  ocena = 5\n",
        "elif razem_pr >= 0.85:\n",
        "  ocena = 4.5\n",
        "elif razem_pr >= 0.70:\n",
        "  ocena = 4\n",
        "elif razem_pr >= 0.65:\n",
        "  ocena = 3.5\n",
        "elif razem_pr >= 0.50:\n",
        "  ocena = 3\n",
        "else:\n",
        "  ocena = 2\n",
        "\n",
        "print(\"Punktacja za kolejne zadania: \", punkty)\n",
        "print(\"Suma punktów: \", razem)\n",
        "print(\"Udział procentowy: \", razem_pr*100, \"%\")\n",
        "print(\"Ocena: \", ocena)"
      ],
      "metadata": {
        "colab": {
          "base_uri": "https://localhost:8080/"
        },
        "id": "5Ex86oJj0UHA",
        "outputId": "46a86cb1-6bc2-43b7-8aa1-3448ccea81db"
      },
      "execution_count": null,
      "outputs": [
        {
          "output_type": "stream",
          "name": "stdout",
          "text": [
            "Punktacja za kolejne zadania:  [10, 15]\n",
            "Suma punktów:  25\n",
            "Udział procentowy:  100.0 %\n",
            "Ocena:  5\n"
          ]
        }
      ]
    }
  ]
}